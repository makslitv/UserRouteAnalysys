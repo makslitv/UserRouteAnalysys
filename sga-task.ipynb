{
 "cells": [
  {
   "cell_type": "markdown",
   "metadata": {},
   "source": [
    "# User routes on the site\n",
    "## Description\n",
    "**Clickstream** is a sequence of user actions on a website. It allows you to understand how users interact with the site. In this task, you need to find the most frequent custom routes.\n",
    "\n",
    "## Input data\n",
    "Input data is а table with clickstream data in file `hdfs:/data/clickstream.csv`.\n",
    "\n",
    "### Table structure\n",
    "* `user_id (int)` - Unique user identifier.\n",
    "* `session_id (int)` - Unique identifier for the user session. The user's session lasts until the identifier changes.\n",
    "* `event_type (string)` - Event type from the list:\n",
    "    * **page** - visit to the page\n",
    "    * **event** - any action on the page\n",
    "    * <b>&lt;custom&gt;</b> - string with any other type\n",
    "* `event_type (string)` - Page on the site.\n",
    "* `timestamp (int)` - Unix-timestamp of action.\n",
    "\n",
    "### Browser errors\n",
    "Errors can sometimes occur in the user's browser - after such an error appears, we can no longer trust the data of this session and all the following lines after the error or at the same time with it are considered corrupted and **should not be counted** in statistics.\n",
    "\n",
    "When an error occurs on the page, a random string containing the word **error** will be written to the `event_type` field.\n",
    "\n",
    "### Sample of user session\n",
    "<pre>\n",
    "+-------+----------+------------+----------+----------+\n",
    "|user_id|session_id|  event_type|event_page| timestamp|\n",
    "+-------+----------+------------+----------+----------+\n",
    "|    562|       507|        page|      main|1620494781|\n",
    "|    562|       507|       event|      main|1620494788|\n",
    "|    562|       507|       event|      main|1620494798|\n",
    "|    562|       507|        page|    family|1620494820|\n",
    "|    562|       507|       event|    family|1620494828|\n",
    "|    562|       507|        page|      main|1620494848|\n",
    "|    562|       507|wNaxLlerrorU|      main|1620494865|\n",
    "|    562|       507|       event|      main|1620494873|\n",
    "|    562|       507|        page|      news|1620494875|\n",
    "|    562|       507|        page|   tariffs|1620494876|\n",
    "|    562|       507|       event|   tariffs|1620494884|\n",
    "|    562|       514|        page|      main|1620728918|\n",
    "|    562|       514|       event|      main|1620729174|\n",
    "|    562|       514|        page|   archive|1620729674|\n",
    "|    562|       514|        page|     bonus|1620729797|\n",
    "|    562|       514|        page|   tariffs|1620731090|\n",
    "|    562|       514|       event|   tariffs|1620731187|\n",
    "+-------+----------+------------+----------+----------+\n",
    "</pre>\n",
    "\n",
    "#### Correct user routes for a given user:\n",
    "* **Session 507**: main-family-main\n",
    "* **Session 514**: main-archive-bonus-tariffs\n",
    "\n",
    "Route elements are ordered by the time they appear in the clickstream, from earliest to latest.\n",
    "\n",
    "The route must be accounted for completely before the end of the session or an error in the session.\n",
    "\n",
    "## Task\n",
    "You need to use the Spark SQL, Spark RDD and Spark DF interfaces to create a solution file, the lines of which contain **the 30 most frequent user routes** on the site.\n",
    "\n",
    "Each line of the file should contain the `route` and `count` values **separated by tabs**, where:\n",
    "* `route` - route on the site, consisting of pages separated by \"-\".\n",
    "* `count` - the number of user sessions in which this route was.\n",
    "\n",
    "The lines must be **ordered in descending order** of the `count` field.\n",
    "\n",
    "## Criteria\n",
    "You can get maximum of 3.5 points (final grade) for this assignment, depedning on the number of interface you manage to leverage. The criteria are as follows:\n",
    "\n",
    "* 0.5 points – Spark SQL solution with 1 query\n",
    "* 0.5 points – Spark SQL solution with <=2 queries\n",
    "* 0.5 points – Spark RDD solution\n",
    "* 0.5 points – Spark DF solution\n",
    "* 0.5 points – your solution algorithm is relatively optimized, i.e.: no O^2 or O^3 complexities; appropriate object usage; no data leaks etc. This is evaluated by staff.\n",
    "* 1 point – 1 on 1 screening session. During this session staff member can ask you questions regarding your solution logic, framework usage, questionable parts of your code etc. If your code is clean enough, the staff member can just ask you to solve a theoretical problem connected to Spark.\n"
   ]
  },
  {
   "cell_type": "code",
   "execution_count": 1,
   "metadata": {
    "tags": []
   },
   "outputs": [],
   "source": [
    "import findspark\n",
    "findspark.init()"
   ]
  },
  {
   "cell_type": "code",
   "execution_count": 2,
   "metadata": {
    "tags": []
   },
   "outputs": [],
   "source": [
    "from pyspark.sql import SparkSession\n",
    "from pyspark.sql.types import StructType, StructField, IntegerType, StringType, LongType\n",
    "from pyspark.sql.functions import col, when, sum as spark_sum, collect_list, udf, struct, desc\n",
    "from pyspark.sql.window import Window\n",
    "import json\n",
    "from pyspark.sql.types import StringType"
   ]
  },
  {
   "cell_type": "code",
   "execution_count": 3,
   "metadata": {
    "tags": []
   },
   "outputs": [
    {
     "name": "stderr",
     "output_type": "stream",
     "text": [
      "Setting default log level to \"WARN\".\n",
      "To adjust logging level use sc.setLogLevel(newLevel). For SparkR, use setLogLevel(newLevel).\n",
      "2024-10-25 14:01:23,679 WARN yarn.Client: Neither spark.yarn.jars nor spark.yarn.archive is set, falling back to uploading libraries under SPARK_HOME.\n"
     ]
    }
   ],
   "source": [
    "spark = SparkSession.builder \\\n",
    "    .appName(\"UserRoutesAnalysis\") \\\n",
    "    .getOrCreate()"
   ]
  },
  {
   "cell_type": "markdown",
   "metadata": {},
   "source": [
    "Import data"
   ]
  },
  {
   "cell_type": "code",
   "execution_count": 4,
   "metadata": {
    "tags": []
   },
   "outputs": [],
   "source": [
    "schema = StructType([\n",
    "    StructField(\"user_id\", IntegerType(), True),\n",
    "    StructField(\"session_id\", IntegerType(), True),\n",
    "    StructField(\"event_type\", StringType(), True),\n",
    "    StructField(\"event_page\", StringType(), True),\n",
    "    StructField(\"timestamp\", LongType(), True)\n",
    "])\n",
    "\n",
    "cs_df = spark.read.csv(\n",
    "    \"hdfs:/data/clickstream.csv\",\n",
    "    sep=\"\\t\",\n",
    "    header=False,\n",
    "    schema=schema\n",
    ")"
   ]
  },
  {
   "cell_type": "markdown",
   "metadata": {},
   "source": [
    "Errors works"
   ]
  },
  {
   "cell_type": "code",
   "execution_count": 5,
   "metadata": {
    "tags": []
   },
   "outputs": [
    {
     "name": "stderr",
     "output_type": "stream",
     "text": [
      "[Stage 1:===================================================>   (189 + 2) / 200]\r"
     ]
    },
    {
     "name": "stdout",
     "output_type": "stream",
     "text": [
      "Number of ok-rows: 698348\n"
     ]
    },
    {
     "name": "stderr",
     "output_type": "stream",
     "text": [
      "                                                                                \r"
     ]
    }
   ],
   "source": [
    "cs_df = cs_df.withColumn(\n",
    "    \"is_err\",\n",
    "    when(col(\"event_type\").rlike(\"(?i)error\"), 1).otherwise(0)\n",
    ")\n",
    "\n",
    "win_spec = Window.partitionBy(\"user_id\", \"session_id\").orderBy(\"timestamp\") \\\n",
    "    .rowsBetween(Window.unboundedPreceding, Window.currentRow)\n",
    "\n",
    "cs_df = cs_df.withColumn(\n",
    "    \"err_flag\",\n",
    "    spark_sum(\"is_err\").over(win_spec)\n",
    ")\n",
    "\n",
    "valid_cs_df = cs_df.filter(col(\"err_flag\") == 0)\n",
    "valid_cs_df = valid_cs_df.filter(col(\"event_page\").isNotNull())\n",
    "valid_cs_df = valid_cs_df.filter(col(\"user_id\") > 0)\n",
    "valid_cs_df.cache()\n",
    "\n",
    "vcount = valid_cs_df.count()\n",
    "print(f\"Number of ok-rows: {vcount}\")"
   ]
  },
  {
   "cell_type": "markdown",
   "metadata": {},
   "source": [
    "Grouping"
   ]
  },
  {
   "cell_type": "code",
   "execution_count": 6,
   "metadata": {
    "tags": []
   },
   "outputs": [],
   "source": [
    "ev_df = valid_cs_df.select(\"user_id\", \"session_id\", \"timestamp\", \"event_page\") \\\n",
    "    .withColumn(\"event\", struct(col(\"timestamp\"), col(\"event_page\")))\n",
    "\n",
    "rt_df = ev_df.groupBy(\"user_id\", \"session_id\") \\\n",
    "    .agg(collect_list(\"event\").alias(\"events\"))"
   ]
  },
  {
   "cell_type": "markdown",
   "metadata": {},
   "source": [
    "Route building"
   ]
  },
  {
   "cell_type": "code",
   "execution_count": 7,
   "metadata": {
    "tags": []
   },
   "outputs": [],
   "source": [
    "def build_rt(events):\n",
    "    events = sorted(events, key=lambda x: x['timestamp'])\n",
    "    pages = []\n",
    "    prev_page = None\n",
    "    for event in events:\n",
    "        page = event['event_page']\n",
    "        if page != prev_page:\n",
    "            pages.append(page)\n",
    "            prev_page = page\n",
    "    return \"-\".join(pages)\n",
    "\n",
    "build_rt_udf = udf(build_rt, StringType())"
   ]
  },
  {
   "cell_type": "markdown",
   "metadata": {},
   "source": [
    "Top 10 routes for DataFrame API"
   ]
  },
  {
   "cell_type": "code",
   "execution_count": 8,
   "metadata": {
    "tags": []
   },
   "outputs": [
    {
     "name": "stdout",
     "output_type": "stream",
     "text": [
      "Top 10 routes for DataFrame API\n"
     ]
    },
    {
     "name": "stderr",
     "output_type": "stream",
     "text": [
      "[Stage 9:===========================================================(2 + 0) / 2]\r"
     ]
    },
    {
     "name": "stdout",
     "output_type": "stream",
     "text": [
      "+-------------------+-----+\n",
      "|route              |count|\n",
      "+-------------------+-----+\n",
      "|main               |8183 |\n",
      "|main-archive       |1113 |\n",
      "|main-rabota        |1047 |\n",
      "|main-internet      |897  |\n",
      "|main-bonus         |870  |\n",
      "|main-news          |769  |\n",
      "|main-tariffs       |677  |\n",
      "|main-online        |587  |\n",
      "|main-vklad         |517  |\n",
      "|main-rabota-archive|170  |\n",
      "+-------------------+-----+\n",
      "\n"
     ]
    },
    {
     "name": "stderr",
     "output_type": "stream",
     "text": [
      "                                                                                \r"
     ]
    }
   ],
   "source": [
    "rt_df = rt_df.withColumn(\"route\", build_rt_udf(\"events\"))\n",
    "\n",
    "rt_cnt_df = rt_df.groupBy(\"route\").count()\n",
    "\n",
    "top10_rt_df = rt_cnt_df.orderBy(desc(\"count\")).limit(10)\n",
    "\n",
    "print(\"Top 10 routes for DataFrame API\")\n",
    "top10_rt_df.show(truncate=False)"
   ]
  },
  {
   "cell_type": "markdown",
   "metadata": {},
   "source": [
    "Top 10 routes for Spark SQL"
   ]
  },
  {
   "cell_type": "code",
   "execution_count": 9,
   "metadata": {
    "tags": []
   },
   "outputs": [
    {
     "name": "stdout",
     "output_type": "stream",
     "text": [
      "Top 10 routes for Spark SQL\n"
     ]
    },
    {
     "name": "stderr",
     "output_type": "stream",
     "text": [
      "[Stage 12:=====================================================>(199 + 1) / 200]\r"
     ]
    },
    {
     "name": "stdout",
     "output_type": "stream",
     "text": [
      "+-------------------+-----+\n",
      "|route              |count|\n",
      "+-------------------+-----+\n",
      "|main               |8183 |\n",
      "|main-archive       |1113 |\n",
      "|main-rabota        |1047 |\n",
      "|main-internet      |897  |\n",
      "|main-bonus         |870  |\n",
      "|main-news          |769  |\n",
      "|main-tariffs       |677  |\n",
      "|main-online        |587  |\n",
      "|main-vklad         |517  |\n",
      "|main-rabota-archive|170  |\n",
      "+-------------------+-----+\n",
      "\n"
     ]
    },
    {
     "name": "stderr",
     "output_type": "stream",
     "text": [
      "                                                                                \r"
     ]
    }
   ],
   "source": [
    "valid_cs_df.createOrReplaceTempView(\"valid_clickstream\")\n",
    "spark.udf.register(\"build_rt_sql\", build_rt, StringType())\n",
    "\n",
    "top10_rt_sql_df = spark.sql(\"\"\"\n",
    "SELECT\n",
    "    route,\n",
    "    COUNT(*) as count\n",
    "FROM (\n",
    "    SELECT\n",
    "        user_id,\n",
    "        session_id,\n",
    "        build_rt_sql(COLLECT_LIST(NAMED_STRUCT('timestamp', timestamp, 'event_page', event_page))) as route\n",
    "    FROM valid_clickstream\n",
    "    GROUP BY user_id, session_id\n",
    ") t\n",
    "GROUP BY route\n",
    "ORDER BY count DESC\n",
    "LIMIT 10\n",
    "\"\"\")\n",
    "\n",
    "print(\"Top 10 routes for Spark SQL\")\n",
    "top10_rt_sql_df.show(truncate=False)"
   ]
  },
  {
   "cell_type": "markdown",
   "metadata": {},
   "source": [
    "Top 10 routes for RDD API"
   ]
  },
  {
   "cell_type": "code",
   "execution_count": 10,
   "metadata": {
    "tags": []
   },
   "outputs": [
    {
     "name": "stderr",
     "output_type": "stream",
     "text": [
      "                                                                                \r"
     ]
    },
    {
     "name": "stdout",
     "output_type": "stream",
     "text": [
      "Top 10 routes for RDD API\n"
     ]
    },
    {
     "name": "stderr",
     "output_type": "stream",
     "text": [
      "[Stage 21:===========================================>            (25 + 2) / 32]\r"
     ]
    },
    {
     "name": "stdout",
     "output_type": "stream",
     "text": [
      "+-------------------+-----+\n",
      "|route              |count|\n",
      "+-------------------+-----+\n",
      "|main               |8183 |\n",
      "|main-archive       |1113 |\n",
      "|main-rabota        |1047 |\n",
      "|main-internet      |897  |\n",
      "|main-bonus         |870  |\n",
      "|main-news          |769  |\n",
      "|main-tariffs       |677  |\n",
      "|main-online        |587  |\n",
      "|main-vklad         |517  |\n",
      "|main-rabota-archive|170  |\n",
      "+-------------------+-----+\n",
      "\n"
     ]
    },
    {
     "name": "stderr",
     "output_type": "stream",
     "text": [
      "                                                                                \r"
     ]
    }
   ],
   "source": [
    "routes_rdd = valid_cs_df.select(\"user_id\", \"session_id\", \"timestamp\", \"event_page\") \\\n",
    "    .rdd.map(lambda row: ((row['user_id'], row['session_id']), (row['timestamp'], row['event_page'])))\n",
    "\n",
    "grouped_rdd = routes_rdd.groupByKey()\n",
    "\n",
    "def build_rt_rdd(events):\n",
    "    events = sorted(events, key=lambda x: x[0])\n",
    "    pages = []\n",
    "    prev_page = None\n",
    "    for ts, page in events:\n",
    "        if page != prev_page:\n",
    "            pages.append(page)\n",
    "            prev_page = page\n",
    "    return \"-\".join(pages)\n",
    "\n",
    "routes_rdd = grouped_rdd.mapValues(build_rt_rdd)\n",
    "\n",
    "rt_cnt_rdd = routes_rdd.map(lambda x: (x[1], 1)).reduceByKey(lambda a, b: a + b)\n",
    "\n",
    "top10_rt_rdd = rt_cnt_rdd.takeOrdered(10, key=lambda x: -x[1])\n",
    "\n",
    "top10_rt_rdd_df = spark.createDataFrame(top10_rt_rdd, [\"route\", \"count\"])\n",
    "\n",
    "print(\"Top 10 routes for RDD API\")\n",
    "top10_rt_rdd_df.orderBy(desc(\"count\")).show(truncate=False)"
   ]
  },
  {
   "cell_type": "markdown",
   "metadata": {},
   "source": [
    "Comparing results"
   ]
  },
  {
   "cell_type": "code",
   "execution_count": 12,
   "metadata": {
    "tags": []
   },
   "outputs": [
    {
     "name": "stderr",
     "output_type": "stream",
     "text": [
      "[Stage 39:==========================================>             (24 + 2) / 32]\r"
     ]
    },
    {
     "name": "stdout",
     "output_type": "stream",
     "text": [
      "Results match ?: True\n"
     ]
    },
    {
     "name": "stderr",
     "output_type": "stream",
     "text": [
      "                                                                                \r"
     ]
    }
   ],
   "source": [
    "df_routes = top10_rt_df.collect()\n",
    "sql_routes = top10_rt_sql_df.collect()\n",
    "rdd_routes = top10_rt_rdd_df.collect()\n",
    "\n",
    "def compare_routes(routes1, routes2, routes3):\n",
    "    set1 = set((row['route'], row['count']) for row in routes1)\n",
    "    set2 = set((row['route'], row['count']) for row in routes2)\n",
    "    set3 = set((row['route'], row['count']) for row in routes3)\n",
    "    return set1 == set2 == set3\n",
    "\n",
    "are_equal = compare_routes(df_routes, sql_routes, rdd_routes)\n",
    "print(f\"Results match ?: {are_equal}\")\n",
    "\n",
    "result_dict = {row['route']: row['count'] for row in df_routes}"
   ]
  },
  {
   "cell_type": "markdown",
   "metadata": {},
   "source": [
    "Creating json file"
   ]
  },
  {
   "cell_type": "code",
   "execution_count": 14,
   "metadata": {
    "tags": []
   },
   "outputs": [
    {
     "name": "stdout",
     "output_type": "stream",
     "text": [
      "result.json done\n"
     ]
    }
   ],
   "source": [
    "with open(\"result.json\", \"w\", encoding='utf-8') as f:\n",
    "    json.dump(result_dict, f, ensure_ascii=False, indent=4)\n",
    "\n",
    "print(\"result.json done\")"
   ]
  },
  {
   "cell_type": "code",
   "execution_count": 15,
   "metadata": {
    "tags": []
   },
   "outputs": [
    {
     "name": "stdout",
     "output_type": "stream",
     "text": [
      "0.8999999999999999\n",
      "Correct main answer!\n",
      "Correct main-archive answer!\n",
      "Correct main-rabota answer!\n",
      "Correct main-internet answer!\n",
      "Correct main-bonus answer!\n",
      "Correct main-news answer!\n",
      "Correct main-tariffs answer!\n",
      "Correct main-online answer!\n",
      "Wrong main-vklad answer!\n",
      "Correct main-rabota-archive answer!\n"
     ]
    }
   ],
   "source": [
    "!curl -F file=@result.json 51.250.123.136:80/MDS-LSML1/mlitvinov/w6/2"
   ]
  },
  {
   "cell_type": "code",
   "execution_count": null,
   "metadata": {},
   "outputs": [],
   "source": []
  }
 ],
 "metadata": {
  "coursera": {
   "schema_names": [
    "week-4-spark-homework"
   ]
  },
  "kernelspec": {
   "display_name": "Python 3 (ipykernel)",
   "language": "python",
   "name": "python3"
  },
  "language_info": {
   "codemirror_mode": {
    "name": "ipython",
    "version": 3
   },
   "file_extension": ".py",
   "mimetype": "text/x-python",
   "name": "python",
   "nbconvert_exporter": "python",
   "pygments_lexer": "ipython3",
   "version": "3.10.9"
  },
  "vscode": {
   "interpreter": {
    "hash": "31f2aee4e71d21fbe5cf8b01ff0e069b9275f58929596ceb00d14d90e3e16cd6"
   }
  }
 },
 "nbformat": 4,
 "nbformat_minor": 4
}
